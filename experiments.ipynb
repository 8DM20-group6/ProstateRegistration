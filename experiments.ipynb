{
 "cells": [
  {
   "cell_type": "markdown",
   "metadata": {},
   "source": [
    "# Experiments"
   ]
  },
  {
   "cell_type": "code",
   "execution_count": null,
   "metadata": {},
   "outputs": [],
   "source": [
    "from dataset import Dataset\n",
    "from registration import *\n",
    "from main import *"
   ]
  },
  {
   "cell_type": "code",
   "execution_count": null,
   "metadata": {},
   "outputs": [],
   "source": [
    "dataset_optimize = Dataset(dirname=\"data/data_optimize\")\n",
    "dataset_validate = Dataset(dirname=\"data/data_validate\")\n",
    "dataset_test = Dataset(dirname=\"data/data_test\")"
   ]
  },
  {
   "cell_type": "markdown",
   "metadata": {},
   "source": [
    "### Determine the registration parameters\n",
    "First experiment with some basic parameters and then try out multistep registration from Klein et. al."
   ]
  },
  {
   "cell_type": "code",
   "execution_count": null,
   "metadata": {},
   "outputs": [],
   "source": [
    "#### Registration Parameters - Basic #####\n",
    "parameter_files_simple = [\n",
    "    \"Par0001affine_1res.txt\",\n",
    "    \"Par0001affine_8res.txt\",\n",
    "    \"Par0001affine_500.txt\",\n",
    "    \"Par0001affine_10000e.txt\",\n",
    "    \"Par0001affine_adaptiveGD.txt\",\n",
    "    \"Par0001affine_CC.txt\",\n",
    "    \"Par0001affine.txt\",\n",
    "    \"Par0001bspline04.txt\",\n",
    "    \"Par0001bspline08.txt\",\n",
    "    \"Par0001bspline16_1res.txt\",\n",
    "    \"Par0001bspline16_8res.txt\",\n",
    "    \"Par0001bspline16_500.txt\",\n",
    "    \"Par0001bspline16_10000.txt\",\n",
    "    \"Par0001bspline16_adaptiveGD.txt\",\n",
    "    \"Par0001bspline16_CC.txt\",\n",
    "    \"Par0001bspline16.txt\",\n",
    "    \"Par0001bspline32.txt\",\n",
    "    \"Par0001bspline64.txt\",\n",
    "    \"Par0001rigid.txt\",\n",
    "    \"Par0001translation_1res.txt\",\n",
    "    \"Par0001translation_8res.txt\",\n",
    "    \"Par0001translation_500.txt\",\n",
    "    \"Par0001translation_10000.txt\",\n",
    "    \"Par0001translation_adaptiveGD.txt\",\n",
    "    \"Par0001translation_CC.txt\",\n",
    "    \"Par0001translation.txt\"\n",
    "]\n",
    "results_simple_parameters = registration_experiment(data_paths=dataset_optimize.data_paths,\n",
    "                                                    parameter_files=parameter_files_simple,\n",
    "                                                    experiment_name=\"simple_parameters\",\n",
    "                                                    plot=False)\n",
    "results_simple_parameters"
   ]
  },
  {
   "cell_type": "code",
   "execution_count": null,
   "metadata": {},
   "outputs": [],
   "source": [
    "#### Registration Parameters - Basic #####\n",
    "parameter_files_simple = [\n",
    "        \"Par0001translation.txt\", \"Par0001rigid.txt\", \"Par0001affine.txt\",\n",
    "        \"Par0001bspline64.txt\", \"Par0001bspline16.txt\", \"Par0001bspline04.txt\"\n",
    "    ]\n",
    "results_simple_parameters = registration_experiment(data_paths=dataset_optimize.data_paths,\n",
    "                                                    parameter_files=parameter_files_simple,\n",
    "                                                    experiment_name=\"simple_parameters\",\n",
    "                                                    plot=True)\n",
    "results_simple_parameters"
   ]
  },
  {
   "cell_type": "code",
   "execution_count": null,
   "metadata": {},
   "outputs": [],
   "source": [
    "#### Registration Parameters - MultiStep #####\n",
    "parameter_files_multistep = [\n",
    "    [\"Par0001translation.txt\", \"Par0001affine.txt\"], [\n",
    "        \"Par0001translation.txt\", \"Par0001bspline4.txt\"],\n",
    "    [\"Par0001translation.txt\", \"Par0001bspline16.txt\"], [\n",
    "        \"Par0001translation.txt\", \"Par0001bspline64.txt\"],\n",
    "    [\"Par0001translation.txt\", \"Par0001bspline64.txt\", \"Par0001bspline32.txt\",\n",
    "        \"Par0001bspline16.txt\", \"Par0001bspline08.txt\"]]\n",
    "results_multistep_parameters = registration_experiment(data_paths=dataset_optimize.data_paths,\n",
    "                                                    parameter_files=parameter_files_multistep,\n",
    "                                                    experiment_name=\"multistep_parameters\",\n",
    "                                                    plot=True, n_atlas_registrations=1)\n",
    "results_multistep_parameters"
   ]
  },
  {
   "cell_type": "markdown",
   "metadata": {},
   "source": [
    "### Determine the fusion method and number of atlases"
   ]
  },
  {
   "cell_type": "code",
   "execution_count": null,
   "metadata": {},
   "outputs": [],
   "source": [
    "#### Multi-Atlas Regsitration Prameters #####\n",
    "result_fusion = fusion_experiment(data_paths=dataset_optimize.data_paths,\n",
    "                                  parameter_file=[\"Par0001translation.txt\", \"Par0001bspline16.txt\"],\n",
    "                                  fusion_methods=[\"itkvoting\", \"SIMPLE\", \"STAPLE\"], max_atlases=11)\n",
    "result_fusion"
   ]
  },
  {
   "cell_type": "markdown",
   "metadata": {},
   "source": [
    "### Validation"
   ]
  },
  {
   "cell_type": "code",
   "execution_count": null,
   "metadata": {},
   "outputs": [],
   "source": [
    "#### Validation with known labels #####\n",
    "result_val, result_paths_val = deploy_model(data_paths_target=dataset_validate.data_paths, data_paths_atlas=dataset_optimize.data_paths,\n",
    "                                    validate=True, fusion_method=\"SIMPLE\", nr_atlas_registration=6, \n",
    "                                    parameter_file=[\"Par0001translation.txt\", \"Par0001bspline16.txt\"])\n",
    "result_val"
   ]
  },
  {
   "cell_type": "markdown",
   "metadata": {},
   "source": [
    "### Deploy model"
   ]
  },
  {
   "cell_type": "code",
   "execution_count": null,
   "metadata": {},
   "outputs": [],
   "source": [
    "#### Model Deployment on unlabeled test data #####\n",
    "result_paths_test = deploy_model(data_paths_target=dataset_test.data_paths, data_paths_atlas=dataset_optimize.data_paths,\n",
    "                                    validate=False, fusion_method=\"SIMPLE\", nr_atlas_registration=6, \n",
    "                                    parameter_file=[\"Par0001translation.txt\", \"Par0001bspline16.txt\"])"
   ]
  }
 ],
 "metadata": {
  "kernelspec": {
   "display_name": "8DM20",
   "language": "python",
   "name": "python3"
  },
  "language_info": {
   "codemirror_mode": {
    "name": "ipython",
    "version": 3
   },
   "file_extension": ".py",
   "mimetype": "text/x-python",
   "name": "python",
   "nbconvert_exporter": "python",
   "pygments_lexer": "ipython3",
   "version": "3.10.13"
  }
 },
 "nbformat": 4,
 "nbformat_minor": 2
}

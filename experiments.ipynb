{
 "cells": [
  {
   "cell_type": "markdown",
   "metadata": {},
   "source": [
    "# Experiments"
   ]
  },
  {
   "cell_type": "code",
   "execution_count": 1,
   "metadata": {},
   "outputs": [],
   "source": [
    "from dataset import Dataset\n",
    "from registration import *\n",
    "from main import *"
   ]
  },
  {
   "cell_type": "code",
   "execution_count": 2,
   "metadata": {},
   "outputs": [],
   "source": [
    "dataset_optimize = Dataset(dirname=\"data/data_optimize\")\n",
    "dataset_validate = Dataset(dirname=\"data/data_validate\")\n",
    "dataset_test = Dataset(dirname=\"data/data_test\")"
   ]
  },
  {
   "cell_type": "markdown",
   "metadata": {},
   "source": [
    "### Determine the registration parameters\n",
    "First experiment with some basic parameters and then try out multistep registration from Klein et. al."
   ]
  },
  {
   "cell_type": "code",
   "execution_count": null,
   "metadata": {},
   "outputs": [],
   "source": [
    "#### Registration Parameters - Basic #####\n",
    "parameter_files_simple = [\n",
    "        \"Par0001translation.txt\", \"Par0001rigid.txt\", \"Par0001affine.txt\",\n",
    "        \"Par0001bspline64.txt\", \"Par0001bspline16.txt\", \"Par0001bspline04.txt\"\n",
    "    ]\n",
    "results_simple_parameters = registration_experiment(data_paths=dataset_optimize.data_paths,\n",
    "                                                    parameter_files=parameter_files_simple,\n",
    "                                                    experiment_name=\"simple_parameters\",\n",
    "                                                    plot=True, n_atlas_registrations=1)\n",
    "results_simple_parameters"
   ]
  },
  {
   "cell_type": "code",
   "execution_count": null,
   "metadata": {},
   "outputs": [],
   "source": [
    "#### Registration Parameters - MultiStep #####\n",
    "parameter_files_multistep = [\n",
    "    [\"Par0001translation.txt\", \"Par0001affine.txt\"], [\n",
    "        \"Par0001translation.txt\", \"Par0001bspline4.txt\"],\n",
    "    [\"Par0001translation.txt\", \"Par0001bspline16.txt\"], [\n",
    "        \"Par0001translation.txt\", \"Par0001bspline64.txt\"],\n",
    "    [\"Par0001translation.txt\", \"Par0001bspline64.txt\", \"Par0001bspline32.txt\",\n",
    "        \"Par0001bspline16.txt\", \"Par0001bspline08.txt\"]]\n",
    "results_multistep_parameters = registration_experiment(data_paths=dataset_optimize.data_paths,\n",
    "                                                    parameter_files=parameter_files_multistep,\n",
    "                                                    experiment_name=\"multistep_parameters\",\n",
    "                                                    plot=True, n_atlas_registrations=1)\n",
    "results_multistep_parameters"
   ]
  },
  {
   "cell_type": "markdown",
   "metadata": {},
   "source": [
    "### Determine the fusion method and number of atlases"
   ]
  },
  {
   "cell_type": "code",
   "execution_count": 3,
   "metadata": {},
   "outputs": [
    {
     "ename": "AttributeError",
     "evalue": "'list' object has no attribute 'data_paths'",
     "output_type": "error",
     "traceback": [
      "\u001b[1;31m---------------------------------------------------------------------------\u001b[0m",
      "\u001b[1;31mAttributeError\u001b[0m                            Traceback (most recent call last)",
      "Cell \u001b[1;32mIn[3], line 2\u001b[0m\n\u001b[0;32m      1\u001b[0m \u001b[38;5;66;03m#### Multi-Atlas Regsitration Prameters #####\u001b[39;00m\n\u001b[1;32m----> 2\u001b[0m result_fusion \u001b[38;5;241m=\u001b[39m fusion_experiment(data_paths\u001b[38;5;241m=\u001b[39m\u001b[43mdataset_optimize\u001b[49m\u001b[38;5;241;43m.\u001b[39;49m\u001b[43mdata_paths\u001b[49m,\n\u001b[0;32m      3\u001b[0m                                     parameter_file\u001b[38;5;241m=\u001b[39m[\u001b[38;5;124m\"\u001b[39m\u001b[38;5;124mPar0001translation.txt\u001b[39m\u001b[38;5;124m\"\u001b[39m, \u001b[38;5;124m\"\u001b[39m\u001b[38;5;124mPar0001bspline16.txt\u001b[39m\u001b[38;5;124m\"\u001b[39m],\n\u001b[0;32m      4\u001b[0m                                     fusion_methods\u001b[38;5;241m=\u001b[39m[\u001b[38;5;124m\"\u001b[39m\u001b[38;5;124mSTAPLE\u001b[39m\u001b[38;5;124m\"\u001b[39m, \u001b[38;5;124m\"\u001b[39m\u001b[38;5;124mmajorityvoting\u001b[39m\u001b[38;5;124m\"\u001b[39m, \u001b[38;5;124m\"\u001b[39m\u001b[38;5;124mSIMPLE\u001b[39m\u001b[38;5;124m\"\u001b[39m], \n\u001b[0;32m      5\u001b[0m                                     nr_atlas_registrations\u001b[38;5;241m=\u001b[39m[\u001b[38;5;241m1\u001b[39m, \u001b[38;5;241m2\u001b[39m, \u001b[38;5;241m3\u001b[39m, \u001b[38;5;241m4\u001b[39m, \u001b[38;5;241m5\u001b[39m, \u001b[38;5;241m6\u001b[39m, \u001b[38;5;241m7\u001b[39m, \u001b[38;5;241m8\u001b[39m, \u001b[38;5;241m9\u001b[39m])\n\u001b[0;32m      6\u001b[0m result_fusion\n",
      "\u001b[1;31mAttributeError\u001b[0m: 'list' object has no attribute 'data_paths'"
     ]
    }
   ],
   "source": [
    "#### Multi-Atlas Regsitration Prameters #####\n",
    "result_fusion = fusion_experiment(data_paths=dataset_optimize.data_paths,\n",
    "                                    parameter_file=[\"Par0001translation.txt\", \"Par0001bspline16.txt\"],\n",
    "                                    fusion_methods=[\"STAPLE\", \"majorityvoting\", \"SIMPLE\"], \n",
    "                                    nr_atlas_registrations=[1, 2, 3, 4, 5, 6, 7, 8, 9])\n",
    "result_fusion"
   ]
  },
  {
   "cell_type": "markdown",
   "metadata": {},
   "source": [
    "### Validation"
   ]
  },
  {
   "cell_type": "code",
   "execution_count": null,
   "metadata": {},
   "outputs": [],
   "source": [
    "#### Validation with known labels #####\n",
    "result_val, result_paths_val = deploy_model(data_paths_target=dataset_validate.data_paths, data_paths_atlas=dataset_optimize.data_paths,\n",
    "                                    validate=True, fusion_method=\"SIMPLE\", nr_atlas_registration=6, \n",
    "                                    parameter_file=[\"Par0001translation.txt\", \"Par0001bspline16.txt\"])\n",
    "result_val"
   ]
  },
  {
   "cell_type": "markdown",
   "metadata": {},
   "source": [
    "### Deploy model"
   ]
  },
  {
   "cell_type": "code",
   "execution_count": null,
   "metadata": {},
   "outputs": [],
   "source": [
    "#### Model Deployment on unlabeled test data #####\n",
    "result_paths_test = deploy_model(data_paths_target=dataset_test.data_paths, data_paths_atlas=dataset_optimize.data_paths,\n",
    "                                    validate=False, fusion_method=\"SIMPLE\", nr_atlas_registration=6, \n",
    "                                    parameter_file=[\"Par0001translation.txt\", \"Par0001bspline16.txt\"])"
   ]
  }
 ],
 "metadata": {
  "kernelspec": {
   "display_name": "8DM20",
   "language": "python",
   "name": "python3"
  },
  "language_info": {
   "codemirror_mode": {
    "name": "ipython",
    "version": 3
   },
   "file_extension": ".py",
   "mimetype": "text/x-python",
   "name": "python",
   "nbconvert_exporter": "python",
   "pygments_lexer": "ipython3",
   "version": "3.10.13"
  }
 },
 "nbformat": 4,
 "nbformat_minor": 2
}
